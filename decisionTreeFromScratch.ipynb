{
 "cells": [
  {
   "cell_type": "code",
   "execution_count": 14,
   "metadata": {},
   "outputs": [],
   "source": [
    "import pandas as pd\n",
    "import math\n",
    "import numpy as np"
   ]
  },
  {
   "cell_type": "code",
   "execution_count": 15,
   "metadata": {},
   "outputs": [],
   "source": [
    "df = pd.read_csv('./datasets/dataset.csv')"
   ]
  },
  {
   "cell_type": "code",
   "execution_count": 16,
   "metadata": {},
   "outputs": [
    {
     "data": {
      "text/html": [
       "<div>\n",
       "<style scoped>\n",
       "    .dataframe tbody tr th:only-of-type {\n",
       "        vertical-align: middle;\n",
       "    }\n",
       "\n",
       "    .dataframe tbody tr th {\n",
       "        vertical-align: top;\n",
       "    }\n",
       "\n",
       "    .dataframe thead th {\n",
       "        text-align: right;\n",
       "    }\n",
       "</style>\n",
       "<table border=\"1\" class=\"dataframe\">\n",
       "  <thead>\n",
       "    <tr style=\"text-align: right;\">\n",
       "      <th></th>\n",
       "      <th>outlook</th>\n",
       "      <th>temp</th>\n",
       "      <th>humidity</th>\n",
       "      <th>wind</th>\n",
       "      <th>play</th>\n",
       "    </tr>\n",
       "  </thead>\n",
       "  <tbody>\n",
       "    <tr>\n",
       "      <th>0</th>\n",
       "      <td>sunny</td>\n",
       "      <td>hot</td>\n",
       "      <td>high</td>\n",
       "      <td>weak</td>\n",
       "      <td>no</td>\n",
       "    </tr>\n",
       "    <tr>\n",
       "      <th>1</th>\n",
       "      <td>sunny</td>\n",
       "      <td>hot</td>\n",
       "      <td>high</td>\n",
       "      <td>strong</td>\n",
       "      <td>no</td>\n",
       "    </tr>\n",
       "    <tr>\n",
       "      <th>2</th>\n",
       "      <td>overcast</td>\n",
       "      <td>hot</td>\n",
       "      <td>high</td>\n",
       "      <td>weak</td>\n",
       "      <td>yes</td>\n",
       "    </tr>\n",
       "    <tr>\n",
       "      <th>3</th>\n",
       "      <td>rain</td>\n",
       "      <td>mild</td>\n",
       "      <td>high</td>\n",
       "      <td>weak</td>\n",
       "      <td>yes</td>\n",
       "    </tr>\n",
       "    <tr>\n",
       "      <th>4</th>\n",
       "      <td>rain</td>\n",
       "      <td>cool</td>\n",
       "      <td>normal</td>\n",
       "      <td>weak</td>\n",
       "      <td>yes</td>\n",
       "    </tr>\n",
       "  </tbody>\n",
       "</table>\n",
       "</div>"
      ],
      "text/plain": [
       "    outlook  temp humidity    wind play\n",
       "0     sunny   hot     high    weak   no\n",
       "1     sunny   hot     high  strong   no\n",
       "2  overcast   hot     high    weak  yes\n",
       "3      rain  mild     high    weak  yes\n",
       "4      rain  cool   normal    weak  yes"
      ]
     },
     "execution_count": 16,
     "metadata": {},
     "output_type": "execute_result"
    }
   ],
   "source": [
    "df.head()"
   ]
  },
  {
   "cell_type": "code",
   "execution_count": 17,
   "metadata": {},
   "outputs": [],
   "source": [
    "total = df['play'].count()"
   ]
  },
  {
   "cell_type": "code",
   "execution_count": 18,
   "metadata": {},
   "outputs": [
    {
     "data": {
      "text/plain": [
       "14"
      ]
     },
     "execution_count": 18,
     "metadata": {},
     "output_type": "execute_result"
    }
   ],
   "source": [
    "total"
   ]
  },
  {
   "cell_type": "code",
   "execution_count": 19,
   "metadata": {},
   "outputs": [],
   "source": [
    "# the number of positive examples\n",
    "p = df[df.play == 'yes']['play'].count()"
   ]
  },
  {
   "cell_type": "code",
   "execution_count": 20,
   "metadata": {},
   "outputs": [],
   "source": [
    "# the number of negative examples\n",
    "n = total - p"
   ]
  },
  {
   "cell_type": "code",
   "execution_count": 21,
   "metadata": {},
   "outputs": [
    {
     "data": {
      "text/plain": [
       "5"
      ]
     },
     "execution_count": 21,
     "metadata": {},
     "output_type": "execute_result"
    }
   ],
   "source": [
    "n"
   ]
  },
  {
   "cell_type": "code",
   "execution_count": 22,
   "metadata": {},
   "outputs": [],
   "source": [
    "def entropy(p, n):\n",
    "    if p == 0 or n == 0:\n",
    "        return 0\n",
    "    frac1 = p/(p + n)\n",
    "    frac2 = n / (p + n)\n",
    "    return -frac1 * math.log2(frac1) - frac2 * math.log2(frac2)"
   ]
  },
  {
   "cell_type": "code",
   "execution_count": 23,
   "metadata": {},
   "outputs": [
    {
     "data": {
      "text/plain": [
       "0.9402859586706311"
      ]
     },
     "execution_count": 23,
     "metadata": {},
     "output_type": "execute_result"
    }
   ],
   "source": [
    "e = entropy(p,n)\n",
    "e"
   ]
  },
  {
   "cell_type": "code",
   "execution_count": 24,
   "metadata": {},
   "outputs": [
    {
     "name": "stdout",
     "output_type": "stream",
     "text": [
      "Information gain:\n",
      "{'outlook': 0.24674981977443933, 'temp': 0.02922256565895487, 'humidity': 0.15183550136234159, 'wind': 0.04812703040826949}\n",
      "Selected: \n",
      " outlook\n",
      " p: None\n",
      " n: None\n",
      " e: None\n",
      " children: None\n",
      " label: outlook\n",
      " gain: 0.24674981977443933\n",
      " entropyBefore: 0.9402859586706311\n",
      " entropyAfter: 0.6935361388961918\n",
      "\n"
     ]
    }
   ],
   "source": [
    "gains = dict()\n",
    "avgEntropies = dict()\n",
    "\n",
    "for attribute in df:\n",
    "    if attribute == 'play':\n",
    "        continue\n",
    "    \n",
    "    attributeCol = df[attribute]\n",
    "    attributeVals = attributeCol.unique() # get the set of attribute values\n",
    "    \n",
    "    entropies = dict()\n",
    "    for val in attributeVals:\n",
    "        \n",
    "        splitted = df[df[attribute] == val][[attribute, 'play']]# split the dataset on the condition that attr = val\n",
    "        total_splitted = splitted['play'].count()\n",
    "        p_splitted = (splitted[splitted['play'] == 'yes']['play']).count()\n",
    "        n_splitted = total_splitted - p_splitted\n",
    "        entropies[val] = {'ent': entropy(p_splitted,n_splitted), 'p': p_splitted, 'n': n_splitted}\n",
    "    \n",
    "    \n",
    "    avgEntropy = avgInfoEntropy(entropies, p, n) # p, n, e global\n",
    "    gain = e - avgEntropy\n",
    "    gains[attribute]=gain\n",
    "    avgEntropies[attribute] = avgEntropy\n",
    "\n",
    "print('Information gain:')\n",
    "print(gains)\n",
    "\n",
    "maxAttr = max(gains, key=gains.get)\n",
    "print(f'Selected: \\n {maxAttr}')\n",
    "\n",
    "root = Node()\n",
    "root.label = maxAttr\n",
    "root.gain = gains[maxAttr]\n",
    "root.entropyBefore = e\n",
    "root.entropyAfter = avgEntropies[maxAttr]\n",
    "\n",
    "root.info()"
   ]
  },
  {
   "cell_type": "code",
   "execution_count": 25,
   "metadata": {},
   "outputs": [],
   "source": [
    "def avgInfoEntropy(entropies, p, n):\n",
    "    \"\"\"Calculate the average info entropy\n",
    "    params: entropies, the dict of entropies and p, n vals after split on an attribute\n",
    "            p,n: initial p and n vals before the split\n",
    "            \"\"\"\n",
    "    infoEntropy = 0\n",
    "    for attributeVal in entropies:\n",
    "        entropyInfo = entropies[attributeVal]\n",
    "        ent = entropyInfo['ent']\n",
    "        p_val = entropyInfo['p']\n",
    "        n_val = entropyInfo['n']\n",
    "        \n",
    "        frac = (p_val + n_val) / (p + n)\n",
    "        infoEntropy += frac*ent\n",
    "    \n",
    "    return infoEntropy"
   ]
  },
  {
   "cell_type": "code",
   "execution_count": 26,
   "metadata": {},
   "outputs": [],
   "source": [
    "class Node:\n",
    "    \n",
    "    def __init__(self):\n",
    "        self.p = None\n",
    "        self.n = None\n",
    "        self.e = None\n",
    "        self.children = None\n",
    "        self.label= None\n",
    "        self.gain = None\n",
    "        self.entropyBefore = None\n",
    "        self.entropyAfter = None\n",
    "        \n",
    "    def addChild(self, child):\n",
    "        if self.children == None:\n",
    "            self.children = [child]\n",
    "        else:\n",
    "            self.children.append(child)\n",
    "    \n",
    "    \n",
    "    def info(self):\n",
    "        print(f' p: {self.p}\\n n: {self.n}\\n e: {self.e}\\n children: {self.children}\\n label: {self.label}\\n gain: {self.gain}\\n entropyBefore: {self.entropyBefore}\\n entropyAfter: {self.entropyAfter}\\n')\n"
   ]
  },
  {
   "cell_type": "code",
   "execution_count": 32,
   "metadata": {},
   "outputs": [
    {
     "name": "stdout",
     "output_type": "stream",
     "text": [
      "    temp humidity    wind play\n",
      "0    hot     high    weak   no\n",
      "1    hot     high  strong   no\n",
      "7   mild     high    weak   no\n",
      "8   cool   normal    weak  yes\n",
      "10  mild   normal  strong  yes\n",
      "    temp humidity    wind play\n",
      "2    hot     high    weak  yes\n",
      "6   cool   normal  strong  yes\n",
      "11  mild     high  strong  yes\n",
      "12   hot   normal    weak  yes\n",
      "    temp humidity    wind play\n",
      "3   mild     high    weak  yes\n",
      "4   cool   normal    weak  yes\n",
      "5   cool   normal  strong   no\n",
      "9   mild   normal    weak  yes\n",
      "13  mild     high  strong   no\n"
     ]
    }
   ],
   "source": [
    "# now, I need to split the dataset at the root\n",
    "maxAttrVals = df[root.label].unique() # unique values that the root node's attribute can take\n",
    "\n",
    "datasets = {}\n",
    "\n",
    "for val in maxAttrVals:\n",
    "    \n",
    "    split_dataset = df[df[root.label] == val].drop(root.label, axis=1)\n",
    "    datasets[val] = split_dataset\n",
    "    print(split_dataset)\n",
    "    # now for each dataset perform all the steps... need to refactor here\n",
    "    "
   ]
  },
  {
   "cell_type": "code",
   "execution_count": null,
   "metadata": {},
   "outputs": [],
   "source": []
  }
 ],
 "metadata": {
  "kernelspec": {
   "display_name": "Python 3",
   "language": "python",
   "name": "python3"
  },
  "language_info": {
   "codemirror_mode": {
    "name": "ipython",
    "version": 3
   },
   "file_extension": ".py",
   "mimetype": "text/x-python",
   "name": "python",
   "nbconvert_exporter": "python",
   "pygments_lexer": "ipython3",
   "version": "3.8.5"
  }
 },
 "nbformat": 4,
 "nbformat_minor": 4
}
